{
 "cells": [
  {
   "cell_type": "markdown",
   "metadata": {},
   "source": [
    "NIM           : 170010108\n",
    "\n",
    "NAMA LENGKAP  : I Wayan Agus Wiryantara"
   ]
  },
  {
   "cell_type": "markdown",
   "metadata": {},
   "source": [
    "### Latihan\n",
    "\n",
    "Instruksi pengerjaan:\n",
    "- Tulis kode program di tempat yang sudah disediakan\n",
    "- Jangan menambah, menghapus, ataupun memodifikasi kode program yang sudah secara _default_ tersedia."
   ]
  },
  {
   "cell_type": "code",
   "execution_count": 1,
   "metadata": {},
   "outputs": [],
   "source": [
    "# Import library yang diperlukan di sini\n",
    "from urllib.request import urlopen\n",
    "from urllib.error import HTTPError\n",
    "from urllib.error import URLError\n",
    "from bs4 import BeautifulSoup\n",
    "from collections import Counter"
   ]
  },
  {
   "cell_type": "code",
   "execution_count": 2,
   "metadata": {},
   "outputs": [],
   "source": [
    "url = {'url1': 'http://www.pythonscraping.com/pages/page1.html',\n",
    "       'url2': 'http://www.pythonscraping.com/pages/warandpeace.html',\n",
    "       'url3': 'http://www.pythonscraping.com/pages/page3.html'}"
   ]
  },
  {
   "cell_type": "code",
   "execution_count": 3,
   "metadata": {},
   "outputs": [],
   "source": [
    "def read_html(url):\n",
    "    \"\"\" \n",
    "    url         : Website URL yang akan di-parsing\n",
    "    html_parser : Tipe HTML parser yang akan digunakan\n",
    "    \"\"\"\n",
    "    try:\n",
    "        html = urlopen(url)\n",
    "        bsObj = BeautifulSoup(html.read(), 'html.parser') \n",
    "    except HTTPError as e:\n",
    "        print('The server returned an HTTP error') \n",
    "    except URLError as e:\n",
    "        print('The server could not be found!') \n",
    "    except AttributeError as e:\n",
    "        return None\n",
    "    \n",
    "    return bsObj"
   ]
  },
  {
   "cell_type": "code",
   "execution_count": 4,
   "metadata": {},
   "outputs": [
    {
     "name": "stdout",
     "output_type": "stream",
     "text": [
      "['Anna\\nPavlovna Scherer', 'Empress Marya\\nFedorovna', 'Prince Vasili Kuragin']\n",
      "['The prince', 'Anna Pavlovna', 'the Empress']\n"
     ]
    }
   ],
   "source": [
    "\n",
    "obj = read_html(url['url2']) # Tulis kode program di sini\n",
    "nameList = obj.findAll('span', {'class': 'green'}) # Scraping all text in tag span, with class='green'\n",
    "\n",
    "# Simpan text di dalam sebuah list 'namelist'\n",
    "namelist = [name.get_text() for name in nameList] # Tulis kode program di sini\n",
    "\n",
    "# Dari list tersebut kemudian ambil text yang bersifat unik saja\n",
    "def prince(n):\n",
    "    name = str.replace(n, 'the prince', 'The prince')\n",
    "    return name\n",
    "uniquename =  [name for names, n in Counter(map(prince, namelist)).most_common() for name in [names]] #Tulis kode program di sini\n",
    "        \n",
    "print(namelist[:3])\n",
    "print(uniquename[:3])\n",
    "\n",
    "# Output yang seharusnya:\n",
    "# ['Anna\\nPavlovna Scherer', 'Empress Marya\\nFedorovna', 'Prince Vasili Kuragin']\n",
    "# ['The prince', 'Anna Pavlovna', 'the Empress']"
   ]
  },
  {
   "cell_type": "code",
   "execution_count": 5,
   "metadata": {},
   "outputs": [
    {
     "name": "stdout",
     "output_type": "stream",
     "text": [
      "['Anna Pavlovna Scherer', 'Empress Marya Fedorovna', 'Prince Vasili Kuragin']\n"
     ]
    }
   ],
   "source": [
    "# Hapus karakter \"\\n\" yang terdapat di dalam 'namelist'\n",
    "# Tulis kode program di sini\n",
    "\n",
    "def remove(n):\n",
    "    name = str.replace(n, '\\n', \" \")\n",
    "    return name\n",
    "namelist = list(map(remove, namelist)) \n",
    "        \n",
    "print(namelist[:3])\n",
    "\n",
    "# Output yang seharusnya:\n",
    "# ['Anna Pavlovna Scherer', 'Empress Marya Fedorovna', 'Prince Vasili Kuragin']"
   ]
  },
  {
   "cell_type": "code",
   "execution_count": 6,
   "metadata": {},
   "outputs": [
    {
     "name": "stdout",
     "output_type": "stream",
     "text": [
      "['Anatole', 'Rohans']\n"
     ]
    }
   ],
   "source": [
    "# Di dalam objek 'uniquename', print nama yang panjangnya tidak lebih dari 8 karakter\n",
    "filtered = filter(lambda x: len(x) <= 8, uniquename) # Tulis kode program di sini\n",
    "\n",
    "result_list = list(sorted(filtered))# Tulis kode program di sini\n",
    "print(result_list)\n",
    "    \n",
    "# Output yang seharusnya:\n",
    "# ['Anatole', 'Rohans']"
   ]
  },
  {
   "cell_type": "code",
   "execution_count": null,
   "metadata": {},
   "outputs": [],
   "source": []
  }
 ],
 "metadata": {
  "kernelspec": {
   "display_name": "Python 3",
   "language": "python",
   "name": "python3"
  },
  "language_info": {
   "codemirror_mode": {
    "name": "ipython",
    "version": 3
   },
   "file_extension": ".py",
   "mimetype": "text/x-python",
   "name": "python",
   "nbconvert_exporter": "python",
   "pygments_lexer": "ipython3",
   "version": "3.8.1"
  }
 },
 "nbformat": 4,
 "nbformat_minor": 4
}
